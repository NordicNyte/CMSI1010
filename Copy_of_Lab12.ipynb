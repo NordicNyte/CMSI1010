{
  "cells": [
    {
      "cell_type": "markdown",
      "metadata": {
        "id": "view-in-github",
        "colab_type": "text"
      },
      "source": [
        "<a href=\"https://colab.research.google.com/github/NordicNyte/CMSI1010/blob/main/Copy_of_Lab12.ipynb\" target=\"_parent\"><img src=\"https://colab.research.google.com/assets/colab-badge.svg\" alt=\"Open In Colab\"/></a>"
      ]
    },
    {
      "cell_type": "markdown",
      "metadata": {
        "id": "jyQP-9Fni5Ue"
      },
      "source": [
        "<a href=\"https://colab.research.google.com/github/LMU-CMSI-1010/lab-notebooks-original/blob/main/Lab12.ipynb\" target=\"_parent\"><img src=\"https://colab.research.google.com/assets/colab-badge.svg\" alt=\"Open In Colab\"/></a>"
      ]
    },
    {
      "cell_type": "markdown",
      "metadata": {
        "id": "9aXfrLXg9seM"
      },
      "source": [
        "# Lab 12 Recursion Recursion\n",
        "This lab will give you the opportunity to write more recursive functions and to trace them.\n",
        "\n",
        "\n"
      ]
    },
    {
      "cell_type": "markdown",
      "metadata": {
        "id": "NeQK-bkp3AKI"
      },
      "source": [
        "## The Fibonacci Sequence\n",
        "A **sequence** is an ordered list of objects. In this case we will look at a sequence of numbers, the **Fibonacci Sequence**. We use variables such as f<sub>1</sub>, f<sub>2</sub>, f<sub>3</sub>, ... to mean the first number in the sequence, second number in the sequence, the third number in the sequence, and so forth.\n",
        "\n",
        "The **Fibonacci sequence** has the special relationship called a **recurrence** where we define a number in the sequence by the sum of the two numbers in the sequence before it. Let's look at the sequence now: <br>\n",
        "f<sub>1</sub> = 1, f<sub>2</sub> = 1, f<sub>3</sub> = 2, f<sub>4</sub> = 3, f<sub>5</sub> = 5, f<sub>6</sub> = 8, ...<br>\n",
        "Can you tell what f<sub>7</sub> should be? Let's look at the pattern. <br>\n",
        "We are given that f<sub>1</sub> is 1 and f<sub>2</sub> is 1. Those are the base cases. <br>\n",
        "Now look at the other terms: <br>\n",
        "f<sub>3</sub> = 2 = f<sub>1</sub> + f<sub>2</sub> = 1 + 1 <br>\n",
        "f<sub>4</sub> = 3 = f<sub>2</sub> + f<sub>3</sub> = 1 + 2 <br>\n",
        "f<sub>5</sub> = 5 = f<sub>3</sub> + f<sub>4</sub> = 2 + 3 <br>\n",
        "f<sub>6</sub> = 8 = f<sub>4</sub> + f<sub>5</sub> = 3 + 5 <br>\n",
        "If we continue this pattern for f<sub>7</sub> <br>\n",
        "f<sub>7</sub> = f<sub>5</sub> + f<sub>6</sub> = 5 + 8 = 13 <br>\n",
        "\n",
        "More generally, the n-th Fibonacci number equals the (n–2)-nd Fibonacci number plus the (n–1)-st Fibonacci number: <br>\n",
        "f<sub>n</sub> = f<sub>n–2</sub> + f<sub>n–1</sub> <br>\n",
        "\n",
        "**Do this:** In the following cell, you will **complete code to compute the n-th Fibonacci number**."
      ]
    },
    {
      "cell_type": "code",
      "execution_count": 6,
      "metadata": {
        "colab": {
          "base_uri": "https://localhost:8080/"
        },
        "id": "9sggpWEB33fV",
        "outputId": "2fc621ad-6201-438a-b6e7-cf0838cf12ec"
      },
      "outputs": [
        {
          "output_type": "stream",
          "name": "stdout",
          "text": [
            "13\n",
            "5\n"
          ]
        }
      ],
      "source": [
        "# TODO: fibonacci: Given an integer, n, greater than or equal to 1\n",
        "# returns the n-th Fibonacci number\n",
        "def fibonacci(n):\n",
        "    # Handle the error case if n is not greater than 0\n",
        "    # This case does not need to be changed\n",
        "\n",
        "    if n <= 0:\n",
        "        print('n must be greater than 0')\n",
        "        return None\n",
        "\n",
        "    # Base cases for f1 and f2\n",
        "    # Use the example above to return\n",
        "    # f1 and f2\n",
        "    # TODO: ADD CODE HERE\n",
        "\n",
        "    if n == 1:\n",
        "      return 1\n",
        "    \n",
        "    if n == 2:\n",
        "      return 1\n",
        "    \n",
        "    # recursive case\n",
        "    # this should make two recursive calls\n",
        "    # that means it makes two calls to itself with\n",
        "    # different input. What should that input be?\n",
        "    # TODO: ADD CODE HERE\n",
        "\n",
        "    else:\n",
        "      #fn = fn–2 + fn–1\n",
        "        return fibonacci(n-1) + fibonacci(n-2)\n",
        "    # TODO: Please remove the following line of code\n",
        "    # Right now this code returns 0 for any input greater\n",
        "    # than 0\n",
        "    return 0\n",
        "  \n",
        "\n",
        "print(fibonacci(7))\n",
        "assert(fibonacci(7) == 13)\n",
        "print(fibonacci(5))\n",
        "assert(fibonacci(5) == 5)\n"
      ]
    },
    {
      "cell_type": "markdown",
      "metadata": {
        "id": "3NnTCLBI5nsb"
      },
      "source": [
        "### Tracing Fibonacci\n",
        "Now take a moment to see what is happening when you call your function `fibonacci(4)` in order to return the fourth Fibonacci number. \n",
        "\n",
        "**Do this:** Visualize the sequence of function calls made by your function when you call `fibonacci(4)` to return the fourth Fibonacci number either by hand or through PythonTutor. **Upload the resulting stack diagram to your lab notebooks repository and supply a plain language explanation of what is happening in the text box below:**\n",
        "\n"
      ]
    },
    {
      "cell_type": "markdown",
      "metadata": {
        "id": "AGLvvN4FQMcz"
      },
      "source": [
        "***\n",
        "> https://pythontutor.com/visualize.html#code=def%20fibonacci%28n%29%3A%0A%20%20%20%20if%20n%20%3C%3D%200%3A%0A%20%20%20%20%20%20%20%20print%28'n%20must%20be%20greater%20than%200'%29%0A%20%20%20%20%20%20%20%20return%20None%0A%20%20%20%20if%20n%20%3D%3D%201%3A%0A%20%20%20%20%20%20return%201%0A%20%20%20%20%0A%20%20%20%20if%20n%20%3D%3D%202%3A%0A%20%20%20%20%20%20return%201%0A%0A%20%20%20%20else%3A%0A%20%20%20%20%20%20%23fn%20%3D%20fn%E2%80%932%20%2B%20fn%E2%80%931%0A%20%20%20%20%20%20%20%20return%20fibonacci%28n-1%29%20%2B%20fibonacci%28n-2%29%0A%20%20%20%20return%200%0A%20%20%0A%0Aprint%28fibonacci%284%29%29&cumulative=true&curInstr=0&heapPrimitives=true&mode=display&origin=opt-frontend.js&py=3&rawInputLstJSON=%5B%5D&textReferences=false\n",
        "\n",
        "fibonacci call executed, \n",
        "call of fibonacci(n) read, \n",
        "checks to see if n<=0, \n",
        "checks to see if n==1, \n",
        "checks to see if n==2, \n",
        "performs fibonacci(n-1), \n",
        "goes through bases, \n",
        "(repeats last 2 lines until n == 2), \n",
        "returns 1, \n",
        "returns value of 1 again as n= 1, \n",
        "performs fibonacci(n-2), \n",
        "goes through bases, \n",
        "(repeats last 2 lines until n == 2), \n",
        "returns 1, \n",
        "returns value of 1 again as n= 1, \n",
        "prints the value\n",
        "***"
      ]
    },
    {
      "cell_type": "markdown",
      "metadata": {
        "id": "VwQPNN6e6QI_"
      },
      "source": [
        "### Print a list backwards iteratively\n",
        "Given a list, **write an *iterative function* to print the list backwards one element at a time.**\n",
        "*Remember that iterative means to use a loop.*\n",
        "\n",
        "For example, if your function is given the list `[4, 7, 9, 2]`, your function should print\n",
        "```\n",
        "2 9 7 4\n",
        "```\n",
        "**Do this:** Complete the following function, `iterative_print_backwards`"
      ]
    },
    {
      "cell_type": "code",
      "execution_count": 12,
      "metadata": {
        "colab": {
          "base_uri": "https://localhost:8080/"
        },
        "id": "rz-jwUKp6cUJ",
        "outputId": "f1309b10-6af0-4369-f6ef-cfd0150d8ad3"
      },
      "outputs": [
        {
          "output_type": "stream",
          "name": "stdout",
          "text": [
            "2 \n",
            "9 \n",
            "7 \n",
            "4 \n"
          ]
        }
      ],
      "source": [
        "# TODO: iterative_print_backwards: given a list, this function prints\n",
        "# the list backwards one item at a time followed by a new line.\n",
        "# This function should not return anything.\n",
        "\n",
        "def iterative_print_backwards(test):\n",
        "    # Use a loop to go through test list backwards \n",
        "    # printing each element one at a time\n",
        "    # TODO: ADD CODE HERE to go through the list\n",
        "    position_counter = len(test) -1\n",
        "    for number in test:\n",
        "        # ADD CODE to print the element\n",
        "        print(test[position_counter], end=' ')\n",
        "        position_counter -=1 \n",
        "         \n",
        "        # To print a space between each element \n",
        "        # use `end` as shown below. \n",
        "        # This line prints the first element of \n",
        "        # the list if it exists---remove it \n",
        "        # once you finish the function.\n",
        "    # Print a new line for the entire list before returning\n",
        "    # This line below does not need to be changed\n",
        "        print()\n",
        "        \n",
        "# Test the function by making function calls\n",
        "# You do not need to change the following line of code\n",
        "# You can add more function calls to test your function  \n",
        "iterative_print_backwards([4, 7, 9, 2])"
      ]
    },
    {
      "cell_type": "markdown",
      "metadata": {
        "id": "90Zthmy_S6AS"
      },
      "source": [
        "### Print a list backwards recursively\n",
        "Given a list, **write a *recursive function* to print the list backwards one element at a time.**\n",
        "*Remember that **recursive** means that the function must call itself.*\n",
        "\n",
        "For example, if your function is given the list, `[4, 7, 9, 2]`, your function should print\n",
        "```\n",
        "2 9 7 4\n",
        "```\n",
        "**Do this:** Complete the following function, `recursive_print_backwards`"
      ]
    },
    {
      "cell_type": "code",
      "execution_count": 27,
      "metadata": {
        "colab": {
          "base_uri": "https://localhost:8080/"
        },
        "id": "ew5_E0TaTJw3",
        "outputId": "230392c2-7639-4e65-f26f-77424be5eb58"
      },
      "outputs": [
        {
          "output_type": "stream",
          "name": "stdout",
          "text": [
            "2 9 7 4\n"
          ]
        }
      ],
      "source": [
        "# TODO: recursive_print_backwards: given a list, this function prints\n",
        "# the list backwards one item at a time followed by a new line.\n",
        "# This function should not return anything.\n",
        "\n",
        "def recursive_print_backwards(test):\n",
        "    # Go through list backwards printing each element one at a time\n",
        "    length = len(test)\n",
        "    # Base case: empty list, so nothing to print\n",
        "    if length == 0:\n",
        "        return\n",
        "    \n",
        "    # Base case: single element\n",
        "    # TODO: Check for single element and print it\n",
        "    # followed by new line and return\n",
        "    # TODO: ADD CODE HERE\n",
        "    if length == 1:\n",
        "        print(test[0])\n",
        "        return\n",
        "\n",
        "    # Recursive case\n",
        "    # print the last element (we did this for you already)\n",
        "    print(test[-1], end=' ')\n",
        "    # You will make another call to itself on a smaller list\n",
        "    # What list should be passed to the recursive call?\n",
        "    # TODO: ADD ONE LINE OF CODE HERE TO MAKE THE RECURSIVE CALL\n",
        "    recursive_print_backwards(test[0:len(test)-1])\n",
        "      \n",
        "\n",
        "# Test the function by making function calls\n",
        "# You do not need to change the following line of code\n",
        "# You can add more function calls to test your function  \n",
        "recursive_print_backwards([4, 7, 9, 2])"
      ]
    },
    {
      "cell_type": "markdown",
      "metadata": {
        "id": "0PA2HcBPQDrf"
      },
      "source": [
        "**Do this:**  Visualize the sequence of function calls made `recursive_print_backwards` either by hand or through PythonTutor. Upload the resulting stack diagram to your lab notebooks repository and supply a plain language explanation of what is happening in the text box below:"
      ]
    },
    {
      "cell_type": "markdown",
      "metadata": {
        "id": "lPupPwlKQdbv"
      },
      "source": [
        "***\n",
        "\n",
        "> https://pythontutor.com/visualize.html#code=%23%20TODO%3A%20recursive_print_backwards%3A%20given%20a%20list,%20this%20function%20prints%0A%23%20the%20list%20backwards%20one%20item%20at%20a%20time%20followed%20by%20a%20new%20line.%0A%23%20This%20function%20should%20not%20return%20anything.%0A%0Adef%20recursive_print_backwards%28test%29%3A%0A%20%20%20%20%23%20Go%20through%20list%20backwards%20printing%20each%20element%20one%20at%20a%20time%0A%20%20%20%20length%20%3D%20len%28test%29%0A%20%20%20%20%23%20Base%20case%3A%20empty%20list,%20so%20nothing%20to%20print%0A%20%20%20%20if%20length%20%3D%3D%200%3A%0A%20%20%20%20%20%20%20%20return%0A%20%20%20%20%0A%20%20%20%20%23%20Base%20case%3A%20single%20element%0A%20%20%20%20%23%20TODO%3A%20Check%20for%20single%20element%20and%20print%20it%0A%20%20%20%20%23%20followed%20by%20new%20line%20and%20return%0A%20%20%20%20%23%20TODO%3A%20ADD%20CODE%20HERE%0A%20%20%20%20if%20length%20%3D%3D%201%3A%0A%20%20%20%20%20%20%20%20print%28test%5B0%5D%29%0A%20%20%20%20%20%20%20%20return%0A%0A%20%20%20%20%23%20Recursive%20case%0A%20%20%20%20%23%20print%20the%20last%20element%20%28we%20did%20this%20for%20you%20already%29%0A%20%20%20%20print%28test%5B-1%5D,%20end%3D'%20'%29%0A%20%20%20%20%23%20You%20will%20make%20another%20call%20to%20itself%20on%20a%20smaller%20list%0A%20%20%20%20%23%20What%20list%20should%20be%20passed%20to%20the%20recursive%20call%3F%0A%20%20%20%20%23%20TODO%3A%20ADD%20ONE%20LINE%20OF%20CODE%20HERE%20TO%20MAKE%20THE%20RECURSIVE%20CALL%0A%20%20%20%20recursive_print_backwards%28test%5B0%3Alen%28test%29-1%5D%29%0A%20%20%20%20%20%20%0A%0A%23%20Test%20the%20function%20by%20making%20function%20calls%0A%23%20You%20do%20not%20need%20to%20change%20the%20following%20line%20of%20code%0A%23%20You%20can%20add%20more%20function%20calls%20to%20test%20your%20function%20%20%0Arecursive_print_backwards%28%5B4,%207,%209,%202%5D%29&cumulative=true&curInstr=0&heapPrimitives=true&mode=display&origin=opt-frontend.js&py=3&rawInputLstJSON=%5B%5D&textReferences=false\n",
        "\n",
        "calls recursive_print_backwards(n)\n",
        "analyzes n\n",
        "checks to see if length = 0\n",
        "checks to see length = 1\n",
        "prints index item\n",
        "recursive function call to continue through the list backwards\n",
        "\n",
        "***"
      ]
    },
    {
      "cell_type": "markdown",
      "metadata": {
        "id": "dKL0LYd-E4JB"
      },
      "source": [
        "### (Optional) Reflections\n",
        "Add a text cell below to answer the following questions:\n",
        "1. What do you feel more confident about after completing this lab?\n",
        "2. What do you feel you can use more help with after completing this lab?\n",
        "3. Do you have any constructive suggestions on how we can help you or improve this lab?"
      ]
    },
    {
      "cell_type": "markdown",
      "metadata": {
        "id": "gB1aHDpyFYey"
      },
      "source": [
        "### Save your work to GitHub\n",
        "Please save this notebook to your lab repository."
      ]
    }
  ],
  "metadata": {
    "kernelspec": {
      "display_name": "Python 3",
      "language": "python",
      "name": "python3"
    },
    "language_info": {
      "codemirror_mode": {
        "name": "ipython",
        "version": 3
      },
      "file_extension": ".py",
      "mimetype": "text/x-python",
      "name": "python",
      "nbconvert_exporter": "python",
      "pygments_lexer": "ipython3",
      "version": "3.8.5"
    },
    "colab": {
      "provenance": [],
      "include_colab_link": true
    }
  },
  "nbformat": 4,
  "nbformat_minor": 0
}